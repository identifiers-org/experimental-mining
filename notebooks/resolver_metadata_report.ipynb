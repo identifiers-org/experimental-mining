{
 "cells": [
  {
   "cell_type": "code",
   "execution_count": 1,
   "metadata": {},
   "outputs": [],
   "source": [
    "# This script provides some reporting on the resolver data from identifiers.org\n",
    "#\n",
    "# Author: Manuel Bernal Llinares <mbdebian@gmail.com>"
   ]
  },
  {
   "cell_type": "code",
   "execution_count": 2,
   "metadata": {},
   "outputs": [
    {
     "ename": "ModuleNotFoundError",
     "evalue": "No module named 'pandas'",
     "output_type": "error",
     "traceback": [
      "\u001b[0;31m---------------------------------------------------------------------------\u001b[0m",
      "\u001b[0;31mModuleNotFoundError\u001b[0m                       Traceback (most recent call last)",
      "\u001b[0;32m<ipython-input-2-e4ec40c00f1a>\u001b[0m in \u001b[0;36m<module>\u001b[0;34m()\u001b[0m\n\u001b[1;32m      1\u001b[0m \u001b[0;32mimport\u001b[0m \u001b[0mtime\u001b[0m\u001b[0;34m\u001b[0m\u001b[0m\n\u001b[1;32m      2\u001b[0m \u001b[0;32mimport\u001b[0m \u001b[0mrandom\u001b[0m\u001b[0;34m\u001b[0m\u001b[0m\n\u001b[0;32m----> 3\u001b[0;31m \u001b[0;32mimport\u001b[0m \u001b[0mpandas\u001b[0m\u001b[0;34m\u001b[0m\u001b[0m\n\u001b[0m\u001b[1;32m      4\u001b[0m \u001b[0;32mimport\u001b[0m \u001b[0mrequests\u001b[0m\u001b[0;34m\u001b[0m\u001b[0m\n\u001b[1;32m      5\u001b[0m \u001b[0;32mimport\u001b[0m \u001b[0mnumpy\u001b[0m \u001b[0;32mas\u001b[0m \u001b[0mnp\u001b[0m\u001b[0;34m\u001b[0m\u001b[0m\n",
      "\u001b[0;31mModuleNotFoundError\u001b[0m: No module named 'pandas'"
     ]
    }
   ],
   "source": [
    "import time\n",
    "import random\n",
    "import pandas\n",
    "import requests\n",
    "import numpy as np\n",
    "import matplotlib.pyplot as plt\n",
    "from collections import Counter\n",
    "\n",
    "%matplotlib inline"
   ]
  },
  {
   "cell_type": "code",
   "execution_count": null,
   "metadata": {},
   "outputs": [],
   "source": [
    "# Endpoint from where the information is coming\n",
    "identifiersorg_resolver_data_url = \"https://identifiers.org/rest/collections/expand\"\n",
    "metadata_service_endpoint_from_url = \"http://localhost:8082/getMetadataForUrl\""
   ]
  },
  {
   "cell_type": "code",
   "execution_count": null,
   "metadata": {},
   "outputs": [],
   "source": [
    "# Initialize pseudo-random number generator\n",
    "random.seed(time.time())"
   ]
  },
  {
   "cell_type": "code",
   "execution_count": null,
   "metadata": {},
   "outputs": [],
   "source": [
    "# Request Helper\n",
    "def make_rest_request_content_type_json(url):\n",
    "    # TODO - Magic number here!!!\n",
    "    n_attempts = 42\n",
    "    response = None\n",
    "    while n_attempts:\n",
    "        n_attempts -= 1\n",
    "        try:\n",
    "            response = requests.get(url, headers={\"Content-Type\": \"application/json\"})\n",
    "        except Exception as e:\n",
    "            # Any possible exception counts towards the attempt counter\n",
    "            # Random wait - TODO - Another magic number!!!\n",
    "            time.sleep(random.randint(30))\n",
    "            continue\n",
    "        if response.ok:\n",
    "            return response.json()\n",
    "        # Random wait - TODO - Another magic number!!!\n",
    "        time.sleep(random.randint(10))\n",
    "    response.raise_for_status()"
   ]
  },
  {
   "cell_type": "code",
   "execution_count": null,
   "metadata": {},
   "outputs": [],
   "source": [
    "# Get the resolver data\n",
    "resolver_dump = make_rest_request_content_type_json(identifiersorg_resolver_data_url)"
   ]
  },
  {
   "cell_type": "code",
   "execution_count": null,
   "metadata": {},
   "outputs": [],
   "source": [
    "# Workout how many prefixes there are in identifiers.org\n",
    "prefixes = [pid_entry['prefix'] for pid_entry in resolver_dump]"
   ]
  },
  {
   "cell_type": "code",
   "execution_count": null,
   "metadata": {},
   "outputs": [],
   "source": [
    "prefixes"
   ]
  },
  {
   "cell_type": "code",
   "execution_count": null,
   "metadata": {},
   "outputs": [],
   "source": [
    "print(\"There are #{} Compact ID prefixes registered in identifiers.org\".format(len(prefixes)))"
   ]
  },
  {
   "cell_type": "code",
   "execution_count": null,
   "metadata": {},
   "outputs": [],
   "source": [
    "# Check the distribution of resources\n",
    "resource_prefixes = []\n",
    "for pid_entry in resolver_dump:\n",
    "    if 'resources' in pid_entry:\n",
    "        for resource in pid_entry['resources']:\n",
    "            if 'resourcePrefix' in resource:\n",
    "                resource_prefixes.append(resource['resourcePrefix'])\n",
    "            else:\n",
    "                print(\"NO RESOURCE PREFIX FOR: PID Entry Name '{}', Resource Information '{}'\".format(pid_entry['name'], resource['info']))\n"
   ]
  },
  {
   "cell_type": "code",
   "execution_count": null,
   "metadata": {},
   "outputs": [],
   "source": [
    "resource_prefixes"
   ]
  },
  {
   "cell_type": "code",
   "execution_count": null,
   "metadata": {},
   "outputs": [],
   "source": [
    "resource_prefixes_distribution = Counter(resource_prefixes)"
   ]
  },
  {
   "cell_type": "code",
   "execution_count": null,
   "metadata": {},
   "outputs": [],
   "source": [
    "resource_prefixes_distribution"
   ]
  },
  {
   "cell_type": "code",
   "execution_count": null,
   "metadata": {},
   "outputs": [],
   "source": [
    "print(\"There #{} Resource Selectors in identifiers.org\".format(len(resource_prefixes_distribution.keys())))"
   ]
  },
  {
   "cell_type": "code",
   "execution_count": null,
   "metadata": {},
   "outputs": [],
   "source": [
    "labels = sorted(resource_prefixes_distribution.keys())\n",
    "values = [resource_prefixes_distribution.get(key) for key in labels]"
   ]
  },
  {
   "cell_type": "code",
   "execution_count": null,
   "metadata": {},
   "outputs": [],
   "source": [
    "# I don't like this Pie Chart\n",
    "fig1, ax1 = plt.subplots()\n",
    "fig1.set_size_inches(18, 5)\n",
    "ax1.bar(labels, values, 1/1.5, color=\"blue\")\n",
    "#ax1.pie(values, labels=labels, shadow=True, startangle=90)\n",
    "#ax1.axis('equal')\n",
    "plt.show()"
   ]
  },
  {
   "cell_type": "code",
   "execution_count": null,
   "metadata": {},
   "outputs": [],
   "source": [
    "# Create a report on metadata"
   ]
  }
 ],
 "metadata": {
  "kernelspec": {
   "display_name": "Python 3",
   "language": "python",
   "name": "python3"
  },
  "language_info": {
   "codemirror_mode": {
    "name": "ipython",
    "version": 3
   },
   "file_extension": ".py",
   "mimetype": "text/x-python",
   "name": "python",
   "nbconvert_exporter": "python",
   "pygments_lexer": "ipython3",
   "version": "3.6.4"
  }
 },
 "nbformat": 4,
 "nbformat_minor": 2
}
