{
 "cells": [
  {
   "cell_type": "code",
   "execution_count": null,
   "metadata": {},
   "outputs": [],
   "source": [
    "# Notebook for playing with GitHub API\n",
    "import pandas as pd\n",
    "from github import Github\n",
    "\n",
    "# Repository URL\n",
    "repo_freya_url = 'datacite/freya'"
   ]
  },
  {
   "cell_type": "code",
   "execution_count": null,
   "metadata": {},
   "outputs": [],
   "source": [
    "# Instantiate the client\n",
    "ghclient = Github()"
   ]
  },
  {
   "cell_type": "code",
   "execution_count": null,
   "metadata": {},
   "outputs": [],
   "source": [
    "freya_repo = ghclient.get_repo(repo_freya_url)"
   ]
  },
  {
   "cell_type": "code",
   "execution_count": null,
   "metadata": {},
   "outputs": [],
   "source": [
    "issues = freya_repo.get_issues()"
   ]
  },
  {
   "cell_type": "code",
   "execution_count": null,
   "metadata": {},
   "outputs": [],
   "source": [
    "# Report configuration\n",
    "user_stories_report_columns = ['Title', 'User Story', 'Labels']\n",
    "user_stories_report = pd.DataFrame(columns=user_stories_report_columns)"
   ]
  },
  {
   "cell_type": "code",
   "execution_count": null,
   "metadata": {},
   "outputs": [],
   "source": [
    "for issue in issues:\n",
    "    print(\"---> Issue '{}'\".format(issue.title))\n",
    "    labels = [label.name for label in issue.labels]\n",
    "    print(\"\\tLabels: '{}'\".format(labels))\n",
    "    #print(\"\\tIssue body: '{}'\".format(issue.body))\n",
    "    user_stories_report = user_stories_report.append({'Title': issue.title, 'User Story': issue.body , 'Labels': \",\".join(labels)}, ignore_index=True)"
   ]
  },
  {
   "cell_type": "code",
   "execution_count": null,
   "metadata": {},
   "outputs": [],
   "source": [
    "user_stories_report.head"
   ]
  },
  {
   "cell_type": "code",
   "execution_count": null,
   "metadata": {},
   "outputs": [],
   "source": [
    "excel_writer = pd.ExcelWriter('freya_user_stories.xlsx')\n",
    "user_stories_report.to_excel(excel_writer, 'FREYA User Stories')\n",
    "excel_writer.save()"
   ]
  },
  {
   "cell_type": "code",
   "execution_count": null,
   "metadata": {},
   "outputs": [],
   "source": []
  }
 ],
 "metadata": {
  "kernelspec": {
   "display_name": "Python 3",
   "language": "python",
   "name": "python3"
  },
  "language_info": {
   "codemirror_mode": {
    "name": "ipython",
    "version": 3
   },
   "file_extension": ".py",
   "mimetype": "text/x-python",
   "name": "python",
   "nbconvert_exporter": "python",
   "pygments_lexer": "ipython3",
   "version": "3.6.6"
  }
 },
 "nbformat": 4,
 "nbformat_minor": 2
}
